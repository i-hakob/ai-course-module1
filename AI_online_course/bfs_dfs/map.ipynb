{
 "cells": [
  {
   "cell_type": "markdown",
   "id": "873782cd",
   "metadata": {},
   "source": [
    "Here is our map of Armenia:"
   ]
  },
  {
   "cell_type": "code",
   "execution_count": null,
   "id": "689f194e",
   "metadata": {},
   "outputs": [],
   "source": [
    "graph = {\n",
    "    \"Yerevan\": [\"Gyumri\", \"Sevan\"], #starting point\n",
    "    \"Gyumri\": [\"Yerevan\", \"Vanadzor\"],\n",
    "    \"Sevan\": [\"Yerevan\", \"Dilizhan\"],\n",
    "    \"Vanadzor\": [\"Gyumri\", \"Dilizhan\"],\n",
    "    \"Dilizhan\": [\"Sevan\", \"Vanadzor\"] #goal\n",
    "}"
   ]
  },
  {
   "cell_type": "markdown",
   "id": "c87f7336",
   "metadata": {},
   "source": [
    "Now I'll write a function bfs that performs a breadth-first search."
   ]
  },
  {
   "cell_type": "code",
   "execution_count": 2,
   "id": "ba9c718f",
   "metadata": {},
   "outputs": [],
   "source": [
    "def bfs(graph, start, goal):\n",
    "    queue = [[start]]\n",
    "    visited = set([start])\n",
    "\n",
    "    while queue:\n",
    "        path = queue.pop(0)\n",
    "        node = path[-1]\n",
    "\n",
    "        if node == goal:\n",
    "            return path\n",
    "        \n",
    "        for i in graph[node]:\n",
    "            if i not in visited:\n",
    "                visited.add(i)\n",
    "                new_path = path + [i]\n",
    "                queue.append(new_path)\n",
    "\n",
    "    return None"
   ]
  },
  {
   "cell_type": "markdown",
   "id": "69d0a007",
   "metadata": {},
   "source": [
    "Let's call our function now to test and print the result."
   ]
  },
  {
   "cell_type": "code",
   "execution_count": 3,
   "id": "06ff7c3f",
   "metadata": {},
   "outputs": [
    {
     "name": "stdout",
     "output_type": "stream",
     "text": [
      "BFS path found: ['Yerevan', 'Sevan', 'Dilizhan']\n"
     ]
    }
   ],
   "source": [
    "path = bfs(graph, \"Yerevan\", \"Dilizhan\")\n",
    "print(f\"BFS path found: {path}\")"
   ]
  },
  {
   "cell_type": "markdown",
   "id": "a5980c12",
   "metadata": {},
   "source": [
    "As we can see, it works as intended."
   ]
  },
  {
   "cell_type": "markdown",
   "id": "b7aac8b1",
   "metadata": {},
   "source": [
    "Let's move to our DFS exercise. I'll copy my BFS function now and rename it to DFS."
   ]
  },
  {
   "cell_type": "code",
   "execution_count": 15,
   "id": "e1eaaf3e",
   "metadata": {},
   "outputs": [],
   "source": [
    "def dfs(graph, start, goal):\n",
    "    stack = [[start]]\n",
    "    visited = set([start])\n",
    "\n",
    "    while stack:\n",
    "        path = stack.pop()\n",
    "        node = path[-1]\n",
    "\n",
    "        if node == goal:\n",
    "            return path\n",
    "        \n",
    "        for i in reversed(graph[node]):\n",
    "            if i not in visited:\n",
    "                visited.add(i)\n",
    "                new_path = path + [i]\n",
    "                stack.append(new_path)\n",
    "\n",
    "    return None"
   ]
  },
  {
   "cell_type": "markdown",
   "id": "f0737ece",
   "metadata": {},
   "source": [
    "As you can see, I have made some changes to our BFS function to turn it into a DFS function. The difference is that the BFS function uses a queue and the DFS function now uses a stack, which means that instead of solving the problem using the FIFO principle, we solve it with the LIFO principle, as the first element that gets removed now is the last element added to our stack. Let's test it to see if it works or not."
   ]
  },
  {
   "cell_type": "code",
   "execution_count": 16,
   "id": "a2de4c38",
   "metadata": {},
   "outputs": [
    {
     "name": "stdout",
     "output_type": "stream",
     "text": [
      "DFS Path found: ['Yerevan', 'Gyumri', 'Vanadzor', 'Dilizhan']\n"
     ]
    }
   ],
   "source": [
    "path = dfs(graph, \"Yerevan\", \"Dilizhan\")\n",
    "print(f\"DFS Path found: {path}\")"
   ]
  },
  {
   "cell_type": "markdown",
   "id": "c249de4d",
   "metadata": {},
   "source": [
    "As we can see it works as intended, so let's call both functions simultaneously now to see the difference between a BFS search and a DFS search."
   ]
  },
  {
   "cell_type": "code",
   "execution_count": 17,
   "id": "55ac2e8c",
   "metadata": {},
   "outputs": [
    {
     "name": "stdout",
     "output_type": "stream",
     "text": [
      "BFS Path - ['Yerevan', 'Sevan', 'Dilizhan']\n",
      "DFS Path - ['Yerevan', 'Gyumri', 'Vanadzor', 'Dilizhan']\n"
     ]
    }
   ],
   "source": [
    "path1 = bfs(graph, \"Yerevan\", \"Dilizhan\")\n",
    "path2 = dfs(graph, \"Yerevan\", \"Dilizhan\")\n",
    "print(f\"BFS Path - {path1}\\nDFS Path - {path2}\")"
   ]
  },
  {
   "cell_type": "markdown",
   "id": "70856fe1",
   "metadata": {},
   "source": [
    "Now let's add some info about the distance between the cities in kilometers, so that we can move on to Dijkstra's search."
   ]
  },
  {
   "cell_type": "code",
   "execution_count": 18,
   "id": "f39c7b00",
   "metadata": {},
   "outputs": [],
   "source": [
    "graph = {\n",
    "    \"Yerevan\": [(\"Gyumri\", 120), (\"Sevan\", 65)], #starting point\n",
    "    \"Gyumri\": [(\"Yerevan\", 120), (\"Vanadzor\", 65)],\n",
    "    \"Sevan\": [(\"Yerevan\", 65), (\"Dilizhan\", 41)],\n",
    "    \"Vanadzor\": [(\"Gyumri\", 65), (\"Dilizhan\", 37)],\n",
    "    \"Dilizhan\": [(\"Sevan\", 41), (\"Vanadzor\", 37)] #goal\n",
    "}"
   ]
  },
  {
   "cell_type": "code",
   "execution_count": 25,
   "id": "13a77ce8",
   "metadata": {},
   "outputs": [],
   "source": [
    "def dijkstra(graph, start):\n",
    "    dist = {}\n",
    "    prev = {}\n",
    "\n",
    "    for v in graph:\n",
    "        dist[v] = float('inf')\n",
    "        prev[v] = None\n",
    "\n",
    "    dist[start] = 0\n",
    "\n",
    "    Q = set(graph.keys())\n",
    "\n",
    "    while Q:\n",
    "        u = None\n",
    "        min_dist = float('inf')\n",
    "        for vertex in Q:\n",
    "            if dist[vertex] < min_dist:\n",
    "                min_dist = dist[vertex]\n",
    "                u = vertex\n",
    "\n",
    "        Q.remove(u)\n",
    "\n",
    "        for v, weight in graph[u]:\n",
    "            if v in Q:\n",
    "                alt = dist[u] + weight\n",
    "                if alt < dist[v]:\n",
    "                    dist[v] = alt\n",
    "                    prev[v] = u\n",
    "\n",
    "    return dist"
   ]
  },
  {
   "cell_type": "markdown",
   "id": "86deb151",
   "metadata": {},
   "source": [
    "Let's call the function now."
   ]
  },
  {
   "cell_type": "code",
   "execution_count": 26,
   "id": "ef3164c3",
   "metadata": {},
   "outputs": [
    {
     "name": "stdout",
     "output_type": "stream",
     "text": [
      "Optimal distance to each city from starting point: {'Yerevan': 0, 'Gyumri': 120, 'Sevan': 65, 'Vanadzor': 143, 'Dilizhan': 106}\n"
     ]
    }
   ],
   "source": [
    "distances = dijkstra(graph, \"Yerevan\")\n",
    "print(f\"Optimal distance to each city from starting point: {distances}\")"
   ]
  },
  {
   "cell_type": "markdown",
   "id": "fd8375e8",
   "metadata": {},
   "source": [
    "Now let's modify the code to get the best distance from Yerevan to Dilizhan."
   ]
  },
  {
   "cell_type": "code",
   "execution_count": 27,
   "id": "8cd86d86",
   "metadata": {},
   "outputs": [],
   "source": [
    "def distance(graph, start, goal):\n",
    "    dist = {}\n",
    "\n",
    "    for v in graph:\n",
    "        dist[v] = float('inf')\n",
    "\n",
    "    dist[start] = 0\n",
    "\n",
    "    Q = set(graph.keys())\n",
    "\n",
    "    while Q:\n",
    "        u = None\n",
    "        min_dist = float('inf')\n",
    "        for vertex in Q:\n",
    "            if dist[vertex] < min_dist:\n",
    "                min_dist = dist[vertex]\n",
    "                u = vertex\n",
    "\n",
    "        Q.remove(u)\n",
    "\n",
    "        for v, weight in graph[u]:\n",
    "            if v in Q:\n",
    "                alt = dist[u] + weight\n",
    "                if alt < dist[v]:\n",
    "                    dist[v] = alt\n",
    "\n",
    "    return dist[goal]"
   ]
  },
  {
   "cell_type": "markdown",
   "id": "5aea0114",
   "metadata": {},
   "source": [
    "Ok, now let's see if it works."
   ]
  },
  {
   "cell_type": "code",
   "execution_count": 29,
   "id": "a3c7c1e6",
   "metadata": {},
   "outputs": [
    {
     "name": "stdout",
     "output_type": "stream",
     "text": [
      "The length of the most optimal path from Yerevan to Dilizhan is 106 km.\n"
     ]
    }
   ],
   "source": [
    "best_distance = distance(graph, \"Yerevan\", \"Dilizhan\")\n",
    "print(f\"The length of the most optimal path from Yerevan to Dilizhan is {best_distance} km.\")"
   ]
  },
  {
   "cell_type": "markdown",
   "id": "4f3f9e29",
   "metadata": {},
   "source": [
    "And it works :)"
   ]
  }
 ],
 "metadata": {
  "kernelspec": {
   "display_name": "Python 3",
   "language": "python",
   "name": "python3"
  },
  "language_info": {
   "codemirror_mode": {
    "name": "ipython",
    "version": 3
   },
   "file_extension": ".py",
   "mimetype": "text/x-python",
   "name": "python",
   "nbconvert_exporter": "python",
   "pygments_lexer": "ipython3",
   "version": "3.13.0"
  }
 },
 "nbformat": 4,
 "nbformat_minor": 5
}
