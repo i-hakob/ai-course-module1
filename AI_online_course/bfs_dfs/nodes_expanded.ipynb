{
 "cells": [
  {
   "cell_type": "markdown",
   "id": "495ff45d",
   "metadata": {},
   "source": [
    "Our graph is this:\n",
    "\n",
    "S -> A, B\n",
    "A -> C, D\n",
    "B -> E, F\n",
    "D -> G\n",
    "\n",
    "Neighbors are expanded in the alphabetical order."
   ]
  },
  {
   "cell_type": "markdown",
   "id": "c11596f8",
   "metadata": {},
   "source": [
    "Breadth-first search (BFS):\n",
    "\n",
    "BFS uses a queue to explore level by level. This means it uses the FIFO (first-in, first-out) principle. Let's look at it step by step in a table. I'll use the pandas library in python to visualize it better."
   ]
  },
  {
   "cell_type": "code",
   "execution_count": 3,
   "id": "e663d5d3",
   "metadata": {},
   "outputs": [
    {
     "data": {
      "text/html": [
       "<div>\n",
       "<style scoped>\n",
       "    .dataframe tbody tr th:only-of-type {\n",
       "        vertical-align: middle;\n",
       "    }\n",
       "\n",
       "    .dataframe tbody tr th {\n",
       "        vertical-align: top;\n",
       "    }\n",
       "\n",
       "    .dataframe thead th {\n",
       "        text-align: right;\n",
       "    }\n",
       "</style>\n",
       "<table border=\"1\" class=\"dataframe\">\n",
       "  <thead>\n",
       "    <tr style=\"text-align: right;\">\n",
       "      <th></th>\n",
       "      <th>Step</th>\n",
       "      <th>Queue</th>\n",
       "      <th>Expanded node</th>\n",
       "      <th>New nodes added</th>\n",
       "    </tr>\n",
       "  </thead>\n",
       "  <tbody>\n",
       "    <tr>\n",
       "      <th>0</th>\n",
       "      <td>1</td>\n",
       "      <td>[S]</td>\n",
       "      <td>S</td>\n",
       "      <td>A, B</td>\n",
       "    </tr>\n",
       "    <tr>\n",
       "      <th>1</th>\n",
       "      <td>2</td>\n",
       "      <td>[A, B]</td>\n",
       "      <td>A</td>\n",
       "      <td>C, D</td>\n",
       "    </tr>\n",
       "    <tr>\n",
       "      <th>2</th>\n",
       "      <td>3</td>\n",
       "      <td>[B, C, D]</td>\n",
       "      <td>B</td>\n",
       "      <td>E, F</td>\n",
       "    </tr>\n",
       "    <tr>\n",
       "      <th>3</th>\n",
       "      <td>4</td>\n",
       "      <td>[C, D, E, F]</td>\n",
       "      <td>C</td>\n",
       "      <td>-</td>\n",
       "    </tr>\n",
       "    <tr>\n",
       "      <th>4</th>\n",
       "      <td>5</td>\n",
       "      <td>[D, E, F]</td>\n",
       "      <td>D</td>\n",
       "      <td>G</td>\n",
       "    </tr>\n",
       "    <tr>\n",
       "      <th>5</th>\n",
       "      <td>6</td>\n",
       "      <td>[E, F, G]</td>\n",
       "      <td>E</td>\n",
       "      <td>-</td>\n",
       "    </tr>\n",
       "    <tr>\n",
       "      <th>6</th>\n",
       "      <td>7</td>\n",
       "      <td>[F, G]</td>\n",
       "      <td>F</td>\n",
       "      <td>-</td>\n",
       "    </tr>\n",
       "    <tr>\n",
       "      <th>7</th>\n",
       "      <td>8</td>\n",
       "      <td>[G]</td>\n",
       "      <td>G</td>\n",
       "      <td>The goal is found ✅</td>\n",
       "    </tr>\n",
       "  </tbody>\n",
       "</table>\n",
       "</div>"
      ],
      "text/plain": [
       "   Step         Queue Expanded node      New nodes added\n",
       "0     1           [S]             S                 A, B\n",
       "1     2        [A, B]             A                 C, D\n",
       "2     3     [B, C, D]             B                 E, F\n",
       "3     4  [C, D, E, F]             C                    -\n",
       "4     5     [D, E, F]             D                    G\n",
       "5     6     [E, F, G]             E                    -\n",
       "6     7        [F, G]             F                    -\n",
       "7     8           [G]             G  The goal is found ✅"
      ]
     },
     "execution_count": 3,
     "metadata": {},
     "output_type": "execute_result"
    }
   ],
   "source": [
    "import pandas as pd\n",
    "\n",
    "pd.DataFrame({\"Step\": [1, 2, 3, 4, 5, 6, 7, 8],\n",
    "              \"Queue\": [\"[S]\", \"[A, B]\", \"[B, C, D]\", \"[C, D, E, F]\", \"[D, E, F]\", \"[E, F, G]\", \"[F, G]\", \"[G]\"],\n",
    "              \"Expanded node\": [\"S\", \"A\", \"B\", \"C\", \"D\", \"E\", \"F\", \"G\"],\n",
    "              \"New nodes added\": [\"A, B\", \"C, D\", \"E, F\", \"-\", \"G\", \"-\", \"-\", \"The goal is found ✅\"]})"
   ]
  },
  {
   "cell_type": "markdown",
   "id": "8e661246",
   "metadata": {},
   "source": [
    "BFS expansition order: S, A, B, C, D, E, F, G"
   ]
  },
  {
   "cell_type": "markdown",
   "id": "17b9be00",
   "metadata": {},
   "source": [
    "Depth-first search (DFS):\n",
    "\n",
    "DFS uses a stack, which means it works by the LIFO (last-in, first-out) principle, and goes as deep as possible before backtracking. Let's look at it step by step like we did for BFS."
   ]
  },
  {
   "cell_type": "code",
   "execution_count": 4,
   "id": "ce5df2ba",
   "metadata": {},
   "outputs": [
    {
     "data": {
      "text/html": [
       "<div>\n",
       "<style scoped>\n",
       "    .dataframe tbody tr th:only-of-type {\n",
       "        vertical-align: middle;\n",
       "    }\n",
       "\n",
       "    .dataframe tbody tr th {\n",
       "        vertical-align: top;\n",
       "    }\n",
       "\n",
       "    .dataframe thead th {\n",
       "        text-align: right;\n",
       "    }\n",
       "</style>\n",
       "<table border=\"1\" class=\"dataframe\">\n",
       "  <thead>\n",
       "    <tr style=\"text-align: right;\">\n",
       "      <th></th>\n",
       "      <th>Step</th>\n",
       "      <th>Stack</th>\n",
       "      <th>Expanded node</th>\n",
       "      <th>New nodes pushed</th>\n",
       "    </tr>\n",
       "  </thead>\n",
       "  <tbody>\n",
       "    <tr>\n",
       "      <th>0</th>\n",
       "      <td>1</td>\n",
       "      <td>[S]</td>\n",
       "      <td>S</td>\n",
       "      <td>A, B</td>\n",
       "    </tr>\n",
       "    <tr>\n",
       "      <th>1</th>\n",
       "      <td>2</td>\n",
       "      <td>[A, B]</td>\n",
       "      <td>A</td>\n",
       "      <td>C, D</td>\n",
       "    </tr>\n",
       "    <tr>\n",
       "      <th>2</th>\n",
       "      <td>3</td>\n",
       "      <td>[C, D, B]</td>\n",
       "      <td>C</td>\n",
       "      <td>-</td>\n",
       "    </tr>\n",
       "    <tr>\n",
       "      <th>3</th>\n",
       "      <td>4</td>\n",
       "      <td>[D, B]</td>\n",
       "      <td>D</td>\n",
       "      <td>G</td>\n",
       "    </tr>\n",
       "    <tr>\n",
       "      <th>4</th>\n",
       "      <td>5</td>\n",
       "      <td>[G, B]</td>\n",
       "      <td>G</td>\n",
       "      <td>The goal is found ✅</td>\n",
       "    </tr>\n",
       "  </tbody>\n",
       "</table>\n",
       "</div>"
      ],
      "text/plain": [
       "   Step      Stack Expanded node     New nodes pushed\n",
       "0     1        [S]             S                 A, B\n",
       "1     2     [A, B]             A                 C, D\n",
       "2     3  [C, D, B]             C                    -\n",
       "3     4     [D, B]             D                    G\n",
       "4     5     [G, B]             G  The goal is found ✅"
      ]
     },
     "execution_count": 4,
     "metadata": {},
     "output_type": "execute_result"
    }
   ],
   "source": [
    "pd.DataFrame({\"Step\": [1, 2, 3, 4, 5],\n",
    "              \"Stack\": [\"[S]\", \"[A, B]\", \"[C, D, B]\", \"[D, B]\", \"[G, B]\"],\n",
    "              \"Expanded node\": [\"S\", \"A\", \"C\", \"D\", \"G\"], \n",
    "              \"New nodes pushed\": [\"A, B\", \"C, D\", \"-\", \"G\", \"The goal is found ✅\"]})"
   ]
  },
  {
   "cell_type": "markdown",
   "id": "cf4ec2fb",
   "metadata": {},
   "source": [
    "DFS expansion order: S, A, C, D, G"
   ]
  }
 ],
 "metadata": {
  "kernelspec": {
   "display_name": "Python 3",
   "language": "python",
   "name": "python3"
  },
  "language_info": {
   "codemirror_mode": {
    "name": "ipython",
    "version": 3
   },
   "file_extension": ".py",
   "mimetype": "text/x-python",
   "name": "python",
   "nbconvert_exporter": "python",
   "pygments_lexer": "ipython3",
   "version": "3.12.10"
  }
 },
 "nbformat": 4,
 "nbformat_minor": 5
}
